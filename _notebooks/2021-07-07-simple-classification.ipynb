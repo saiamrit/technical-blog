{
 "cells": [
  {
   "cell_type": "markdown",
   "metadata": {},
   "source": [
    "# Lets Keep Classification Simple !"
   ]
  },
  {
   "cell_type": "markdown",
   "metadata": {
    "id": "ea8UeVA3lMNQ"
   },
   "source": [
    "toc: true\n",
    "badges: true\n",
    "comments: true\n",
    "categories: [jupyter]\n",
    "\n",
    "Whenever it comes to image domain task like classification, segmentation etc, the first thing that comes to the mind is of a conplex model like Convolutional Neural Network which performs a heavily complicated operation over the image to extract meaningful features and then perform the required task using the features. \n",
    "\n",
    "![](https://miro.medium.com/max/1280/1*Bb4DXTfBMgLZJ3cPAZ0Tmg.gif) \n",
    "\n",
    "Rather than involving a complicated model with a hope that a complex model is bound to perform beat on the data and give us almost perfect performance, its always wise to come-up with a very simple algorithm based on visual observation or simple statistical studies over the given image data to get a descent baseline performance and then build upon it till we reach a saturation of performance.\n",
    "> Note: Many a times, even a simple algorithm can outperform a complex model with millions of parameters on the test data.\n",
    "\n",
    "## Baseline Model\n",
    "A simple model which you are confident should perform reasonably well. It should be very simple to implement, and very easy to test, so that you can then test each of your improved ideas, and make sure they are always better than your baseline. Without starting with a sensible baseline, it is very difficult to know whether your super-fancy models are actually any good.\n",
    "\n",
    "## Baseline for MNIST data classification\n",
    "\n",
    "MNIST is the most basic dataset in computer vision. It itself and its varients serve as baseline datasets for testing most of the new approaches that researchers come up in vision.\n",
    "<br>\n",
    "In this article, we shall try to build a very simple decision policy to classify a give test image into one of the digit classes without involving any convolution operation or complicated feature extraction and classifier.\n",
    "\n",
    "## Setup Fastai and Necessary Imports"
   ]
  },
  {
   "cell_type": "code",
   "execution_count": null,
   "metadata": {
    "id": "W75DcQKuBrQ2"
   },
   "outputs": [],
   "source": [
    "!pip install -Uqq fastbook\n",
    "import fastbook\n",
    "fastbook.setup_book()\n",
    "\n",
    "from fastai.vision.all import *\n",
    "from fastbook import *\n",
    "\n",
    "matplotlib.rc('image', cmap='Greys')"
   ]
  },
  {
   "cell_type": "markdown",
   "metadata": {
    "id": "CkxoWUKzpwwe"
   },
   "source": [
    "This sets up the fastai library and imports all the APIs to be used later.\n",
    "\n",
    "## Loading Dataset\n",
    "We will download the MNIST dataset provided by Fastai using the ```untar_data()``` function and store the path to each digit folder in a list for preparing the training data."
   ]
  },
  {
   "cell_type": "code",
   "execution_count": 3,
   "metadata": {
    "colab": {
     "base_uri": "https://localhost:8080/",
     "height": 16
    },
    "id": "6XDV8AJ9CTMs",
    "outputId": "3e930683-67c3-43d4-a974-1382259bec84"
   },
   "outputs": [
    {
     "data": {
      "text/html": [],
      "text/plain": [
       "<IPython.core.display.HTML object>"
      ]
     },
     "metadata": {
      "tags": []
     },
     "output_type": "display_data"
    }
   ],
   "source": [
    "path = untar_data(URLs.MNIST)\n",
    "\n",
    "training_paths = (path/'training').ls().sorted()\n",
    "\n",
    "test_paths = (path/'testing').ls().sorted()"
   ]
  },
  {
   "cell_type": "markdown",
   "metadata": {
    "id": "RNWjDgNisSjg"
   },
   "source": [
    "Let's have a  look at some sample images from each class to understand the data and design a baseline algorithm."
   ]
  },
  {
   "cell_type": "code",
   "execution_count": 78,
   "metadata": {
    "colab": {
     "base_uri": "https://localhost:8080/",
     "height": 173
    },
    "id": "dDvULRLVrTCk",
    "outputId": "d200ed3f-6c55-4add-b769-cd0f95468a73"
   },
   "outputs": [
    {
     "data": {
      "image/png": "[encoded data removed]",
      "text/plain": [
       "<Figure size 2160x216 with 10 Axes>"
      ]
     },
     "metadata": {
      "needs_background": "light",
      "tags": []
     },
     "output_type": "display_data"
    }
   ],
   "source": [
    "sample_images = [Image.open(training_paths[i].ls()[0]) for i in range(10)]\n",
    "\n",
    "show_images(sample_images, nrows=1)"
   ]
  },
  {
   "cell_type": "markdown",
   "metadata": {
    "id": "sF9ssQqorAYf"
   },
   "source": [
    "## Approach for the Baseline\n",
    "One good approach to creating a baseline is to think of a simple, easy-to-implement model. The simplest thing that comes to the mind on looking at the images is that:  \n",
    "1. Each number has a characteristic shape and pixel distribution. Every other image of the same number should ideally possess similar characteristics and pixel distribution.  \n",
    "2. If we can come up with a representative for each class that posseses characteristics of maximum members of the class and then simply compare every unknown test image with each of this representative and classify it to that class, whose representative is most similar to it.\n",
    "3. Similarity can be defined in terms of pixel wise difference which takes into account pixel distribution into the similarity metric.\n",
    "4. Finally the most basic representative for a class can be its mean image.\n",
    "\n",
    "## Baseline Algorithm\n",
    "1. Prepare training data by stacking up all images of a particular digit into one tensor.\n",
    "2. Find the mean image for each of these digits.\n",
    "3. Loop over all the test image and find its distance from each of the mean image and consider its label to be the one with the minimum distance.\n",
    "4. Calculate accuracy of this method.\n",
    "\n",
    "## Preparing the training and testing tensors"
   ]
  },
  {
   "cell_type": "code",
   "execution_count": null,
   "metadata": {
    "id": "lr2kSf52PdRl"
   },
   "outputs": [],
   "source": [
    "training_data = []\n",
    "\n",
    "for pth in training_paths:\n",
    "    \n",
    "    training_data.append(torch.stack([tensor(Image.open(o)) for o in pth.ls()]).float()/255)\n",
    "    \n",
    "test_data = []\n",
    "\n",
    "for pth in test_paths:\n",
    "    \n",
    "    test_data.append(torch.stack([tensor(Image.open(o)) for o in pth.ls()]).float()/255)"
   ]
  },
  {
   "cell_type": "markdown",
   "metadata": {
    "id": "di9tfJpUxLlo"
   },
   "source": [
    "## Computing the Mean Image for each class"
   ]
  },
  {
   "cell_type": "code",
   "execution_count": 23,
   "metadata": {
    "colab": {
     "base_uri": "https://localhost:8080/",
     "height": 173
    },
    "id": "gymulmMEy6a9",
    "outputId": "4c7dbd47-4f36-4ffc-8751-9f3e49ee03ef"
   },
   "outputs": [
    {
     "data": {
      "image/png": "[encoded data removed]",
      "text/plain": [
       "<Figure size 2160x216 with 10 Axes>"
      ]
     },
     "metadata": {
      "needs_background": "light",
      "tags": []
     },
     "output_type": "display_data"
    }
   ],
   "source": [
    "mean_images = [data.mean(0) for data in training_data]\n",
    "\n",
    "show_images(mean_images, nrows=1)"
   ]
  },
  {
   "cell_type": "markdown",
   "metadata": {
    "id": "SP6GaSkmxUmV"
   },
   "source": [
    "## Computing the similarity \n",
    "Similarity is computed as the L2 distance or the Euclidean distance between each test image and each of the mean image and storing the minimumum distance as its predicted label.\n",
    "<br>\n",
    "\n",
    "Finally computing the accuracy of this approach."
   ]
  },
  {
   "cell_type": "code",
   "execution_count": 66,
   "metadata": {
    "id": "MXk8D8-M-_O4"
   },
   "outputs": [],
   "source": [
    "total = 0\n",
    "correct = 0\n",
    "for i in range(10):\n",
    "  \n",
    "    total += test_data[i].shape[0]\n",
    "    \n",
    "    predict = tensor([tensor([F.mse_loss(test_data[i][im],mean_images[mean]).sqrt() for mean in range(10)]).argmin() for im in range(test_data[i].shape[0])])\n",
    "    \n",
    "    correct += (predict == i).sum()"
   ]
  },
  {
   "cell_type": "code",
   "execution_count": 67,
   "metadata": {
    "colab": {
     "base_uri": "https://localhost:8080/"
    },
    "id": "rSR23V7wcFIq",
    "outputId": "c03e3837-fee2-41e6-b2df-d5c53d967339"
   },
   "outputs": [
    {
     "name": "stdout",
     "output_type": "stream",
     "text": [
      "Accuracy of simple model is: 82.03 %\n"
     ]
    }
   ],
   "source": [
    "print('Accuracy of simple model is: {:.2f} %'.format(correct/total*100))"
   ]
  },
  {
   "cell_type": "markdown",
   "metadata": {
    "id": "ihOxElLOyP81"
   },
   "source": [
    "Notice that just using mean image and L2 distance, we can acheive a baseline performance of 82.03% on MNIST data. This is probably the most simple classification strategy that could be thought of. So any model that performs worse than this should not be accepted.\n",
    "<br>\n",
    "\n",
    "It is really interesting to note that such a simple approach performs descent on a image data which is fairly complicated. The conclusion is to always start with simpe ideas and establish a baseline model and then build upon that idea and improve performance from the benchmark performance acheived by the baseline model."
   ]
  },
  {
   "cell_type": "code",
   "execution_count": null,
   "metadata": {},
   "outputs": [],
   "source": []
  }
 ],
 "metadata": {
  "accelerator": "GPU",
  "colab": {
   "collapsed_sections": [],
   "name": "2021-07-07-simple-classification.ipynb",
   "provenance": []
  },
  "kernelspec": {
   "display_name": "Python 3",
   "language": "python",
   "name": "python3"
  },
  "language_info": {
   "codemirror_mode": {
    "name": "ipython",
    "version": 3
   },
   "file_extension": ".py",
   "mimetype": "text/x-python",
   "name": "python",
   "nbconvert_exporter": "python",
   "pygments_lexer": "ipython3",
   "version": "3.7.6"
  }
 },
 "nbformat": 4,
 "nbformat_minor": 1
}
