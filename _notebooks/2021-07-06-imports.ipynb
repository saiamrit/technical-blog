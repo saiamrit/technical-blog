{
  "nbformat": 4,
  "nbformat_minor": 0,
  "metadata": {
    "colab": {
      "name": "2021-07-06-imports.ipynb",
      "provenance": [],
      "collapsed_sections": []
    },
    "kernelspec": {
      "name": "python3",
      "display_name": "Python 3"
    },
    "language_info": {
      "name": "python"
    },
    "accelerator": "GPU"
  },
  "cells": [
    {
      "cell_type": "markdown",
      "metadata": {
        "id": "3Hl-Sx7rJBkT"
      },
      "source": [
        "# Imports check"
      ]
    },
    {
      "cell_type": "code",
      "metadata": {
        "id": "Or-b-qoum6AM"
      },
      "source": [
        "# necessary imports\n",
        "\n",
        "# importing pytorch and torch vision\n",
        "import torch\n",
        "import torchvision\n",
        "\n",
        "# importing neural network lib for neural network functionality\n",
        "import torch.nn as nn\n",
        "import torch.nn.functional as F\n",
        "\n",
        "# import dataset necessary libs\n",
        "from torchvision import datasets, transforms\n",
        "\n",
        "# importing numpy and plotter library\n",
        "import numpy as np\n",
        "import matplotlib.pyplot as plt"
      ],
      "execution_count": 1,
      "outputs": []
    },
    {
      "cell_type": "markdown",
      "metadata": {
        "id": "gj4TIzzernaY"
      },
      "source": [
        "![](https://miro.medium.com/max/1240/1*SjtKOauOXFVjWRR7iCtHiA.gif)"
      ]
    },
    {
      "cell_type": "code",
      "metadata": {
        "id": "99PihIbRrzGa"
      },
      "source": [
        ""
      ],
      "execution_count": null,
      "outputs": []
    }
  ]
}