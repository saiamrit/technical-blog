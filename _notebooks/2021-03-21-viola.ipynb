{
 "cells": [
  {
   "cell_type": "markdown",
   "metadata": {},
   "source": [
    "# Viola Jones Implementation from Scratch"
   ]
  },
  {
   "cell_type": "markdown",
   "metadata": {},
   "source": [
    "Data available at : https://drive.google.com/drive/folders/1UBGUwLAqbtt03RtVhSMrD-AAOOWV3oLr?usp=sharing"
   ]
  },
  {
   "cell_type": "code",
   "execution_count": 1,
   "metadata": {},
   "outputs": [],
   "source": [
    "import numpy as np\n",
    "# from PIL import Image\n",
    "import os\n",
    "import cv2\n",
    "from functools import partial\n",
    "from multiprocessing import Pool"
   ]
  },
  {
   "cell_type": "code",
   "execution_count": 5,
   "metadata": {},
   "outputs": [],
   "source": [
    "pos_training_path = '../face_data/small_data/face/pos_integral.npy'\n",
    "neg_training_path = '../face_data/small_data/non/neg_integral.npy'"
   ]
  },
  {
   "cell_type": "code",
   "execution_count": 6,
   "metadata": {},
   "outputs": [],
   "source": [
    "faces_int_img_training = np.load(pos_training_path)[:500]\n",
    "non_faces_int_img_training = np.load(neg_training_path)[:500]\n",
    "\n",
    "faces_int_img_test = np.load(pos_training_path)[800:900]\n",
    "non_faces_int_img_test = np.load(neg_training_path)[800:900]"
   ]
  },
  {
   "cell_type": "code",
   "execution_count": 11,
   "metadata": {},
   "outputs": [
    {
     "name": "stdout",
     "output_type": "stream",
     "text": [
      "(500, 50, 50)\n",
      "(500, 50, 50)\n",
      "(100, 50, 50)\n",
      "(100, 50, 50)\n"
     ]
    }
   ],
   "source": [
    "print(np.shape(faces_int_img_training))\n",
    "print(np.shape(non_faces_int_img_training))\n",
    "\n",
    "print(np.shape(faces_int_img_test))\n",
    "print(np.shape(non_faces_int_img_test))"
   ]
  },
  {
   "cell_type": "code",
   "execution_count": 12,
   "metadata": {},
   "outputs": [],
   "source": [
    "num_classifiers = 20\n",
    "min_height = 4\n",
    "max_height = 10\n",
    "min_width = 4\n",
    "max_width = 10"
   ]
  },
  {
   "cell_type": "code",
   "execution_count": 13,
   "metadata": {},
   "outputs": [],
   "source": [
    "def enum(**enums):\n",
    "    return type('Enum', (), enums)\n",
    "\n",
    "FeatureType = enum(TWO_VERTICAL=(1, 2), TWO_HORIZONTAL=(2, 1), THREE_HORIZONTAL=(3, 1), \n",
    "                   THREE_VERTICAL=(1, 3), FOUR=(2, 2))\n",
    "FeatureTypes = [FeatureType.TWO_VERTICAL, FeatureType.TWO_HORIZONTAL, FeatureType.THREE_VERTICAL, \n",
    "                FeatureType.THREE_HORIZONTAL, FeatureType.FOUR]"
   ]
  },
  {
   "cell_type": "code",
   "execution_count": 14,
   "metadata": {},
   "outputs": [],
   "source": [
    "class HaarLikeFeature(object):\n",
    "    \"\"\"\n",
    "    Class representing a haar-like feature.\n",
    "    \"\"\"\n",
    "\n",
    "    def __init__(self, feature_type, position, width, height, threshold, polarity):\n",
    "        \"\"\"\n",
    "        Creates a new haar-like feature.\n",
    "        \"\"\"\n",
    "        self.type = feature_type\n",
    "        self.top_left = position\n",
    "        self.bottom_right = (position[0] + width, position[1] + height)\n",
    "        self.width = width\n",
    "        self.height = height\n",
    "        self.threshold = threshold\n",
    "        self.polarity = polarity\n",
    "        self.weight = 1\n",
    "    \n",
    "#     def __str__(self):\n",
    "#         return str(self.__class__) + \": \" + str(self.__dict__)\n",
    "    def get_score(self, int_img):\n",
    "        \"\"\"\n",
    "        Get score for given integral image array.\n",
    "        \"\"\"\n",
    "        score = 0\n",
    "        if self.type == FeatureType.TWO_VERTICAL:\n",
    "            first = sum_region(int_img, self.top_left, (self.top_left[0] + self.width, int(self.top_left[1] + self.height / 2)))\n",
    "            second = sum_region(int_img, (self.top_left[0], int(self.top_left[1] + self.height / 2)), self.bottom_right)\n",
    "            score = first - second\n",
    "        elif self.type == FeatureType.TWO_HORIZONTAL:\n",
    "            first = sum_region(int_img, self.top_left, (int(self.top_left[0] + self.width / 2), self.top_left[1] + self.height))\n",
    "            second = sum_region(int_img, (int(self.top_left[0] + self.width / 2), self.top_left[1]), self.bottom_right)\n",
    "            score = first - second\n",
    "        elif self.type == FeatureType.THREE_HORIZONTAL:\n",
    "            first = sum_region(int_img, self.top_left, (int(self.top_left[0] + self.width / 3), self.top_left[1] + self.height))\n",
    "            second = sum_region(int_img, (int(self.top_left[0] + self.width / 3), self.top_left[1]), (int(self.top_left[0] + 2 * self.width / 3), self.top_left[1] + self.height))\n",
    "            third = sum_region(int_img, (int(self.top_left[0] + 2 * self.width / 3), self.top_left[1]), self.bottom_right)\n",
    "            score = first - second + third\n",
    "        elif self.type == FeatureType.THREE_VERTICAL:\n",
    "            first = sum_region(int_img, self.top_left, (self.bottom_right[0], int(self.top_left[1] + self.height / 3)))\n",
    "            second = sum_region(int_img, (self.top_left[0], int(self.top_left[1] + self.height / 3)), (self.bottom_right[0], int(self.top_left[1] + 2 * self.height / 3)))\n",
    "            third = sum_region(int_img, (self.top_left[0], int(self.top_left[1] + 2 * self.height / 3)), self.bottom_right)\n",
    "            score = first - second + third\n",
    "        elif self.type == FeatureType.FOUR:\n",
    "            # top left area\n",
    "            first = sum_region(int_img, self.top_left, (int(self.top_left[0] + self.width / 2), int(self.top_left[1] + self.height / 2)))\n",
    "            # top right area\n",
    "            second = sum_region(int_img, (int(self.top_left[0] + self.width / 2), self.top_left[1]), (self.bottom_right[0], int(self.top_left[1] + self.height / 2)))\n",
    "            # bottom left area\n",
    "            third = sum_region(int_img, (self.top_left[0], int(self.top_left[1] + self.height / 2)), (int(self.top_left[0] + self.width / 2), self.bottom_right[1]))\n",
    "            # bottom right area\n",
    "            fourth = sum_region(int_img, (int(self.top_left[0] + self.width / 2), int(self.top_left[1] + self.height / 2)), self.bottom_right)\n",
    "            score = first - second - third + fourth\n",
    "        return score\n",
    "    \n",
    "    def get_vote(self, int_img):\n",
    "        \"\"\"\n",
    "        Get vote of this feature for given integral image.\n",
    "        \"\"\"\n",
    "        score = self.get_score(int_img)\n",
    "        return self.weight * (1 if score < self.polarity * self.threshold else -1)"
   ]
  },
  {
   "cell_type": "code",
   "execution_count": 15,
   "metadata": {},
   "outputs": [],
   "source": [
    "def create_features(img_height, img_width, min_feature_width, max_feature_width, min_feature_height, max_feature_height):\n",
    "    '''\n",
    "    Runs multiple sized windows and creates features within the windows at each location \n",
    "    '''\n",
    "    print('Creating haar-like features..')\n",
    "    features = []\n",
    "    print(FeatureTypes)\n",
    "    for feature in FeatureTypes:\n",
    "        # FeatureTypes are just tuples\n",
    "        feature_start_width = max(min_feature_width, feature[0])\n",
    "        for feature_width in range(feature_start_width, max_feature_width, feature[0]):\n",
    "            feature_start_height = max(min_feature_height, feature[1])\n",
    "            for feature_height in range(feature_start_height, max_feature_height, feature[1]):\n",
    "                for x in range(img_width - feature_width):\n",
    "                    for y in range(img_height - feature_height):\n",
    "                        features.append(HaarLikeFeature(feature, (x, y), feature_width, feature_height, 0, 1))\n",
    "                        features.append(HaarLikeFeature(feature, (x, y), feature_width, feature_height, 0, -1))\n",
    "    print(str(len(features)) + ' features created.\\n')\n",
    "    return features\n",
    "\n",
    "def get_feature_vote(feature, image):\n",
    "    return feature.get_vote(image)"
   ]
  },
  {
   "cell_type": "code",
   "execution_count": 16,
   "metadata": {},
   "outputs": [],
   "source": [
    "def sum_region(integral_img_arr, top_left, bottom_right):\n",
    "    \"\"\"\n",
    "    Calculates the sum in the rectangle specified by the given tuples of features.\n",
    "    \"\"\"\n",
    "    # swap tuples\n",
    "    top_left = (top_left[1], top_left[0])\n",
    "    bottom_right = (bottom_right[1], bottom_right[0])\n",
    "    if top_left == bottom_right:\n",
    "        return integral_img_arr[top_left]\n",
    "    top_right = (bottom_right[0], top_left[1])\n",
    "    bottom_left = (top_left[0], bottom_right[1])\n",
    "    return integral_img_arr[bottom_right] - integral_img_arr[top_right] - integral_img_arr[bottom_left] + integral_img_arr[top_left]"
   ]
  },
  {
   "cell_type": "code",
   "execution_count": 17,
   "metadata": {},
   "outputs": [],
   "source": [
    "def learn(pos_ii, neg_ii, num_classifiers=-1, min_width=1, max_width=-1, min_height=1, max_height=-1):\n",
    "    '''\n",
    "        the main learn function that creates classifiers, calculates \n",
    "        scores at various windows and locations and returns the classifiers\n",
    "    '''\n",
    "    num_pos = len(pos_ii)\n",
    "    num_neg = len(neg_ii)\n",
    "    num_imgs = num_pos + num_neg\n",
    "    img_height, img_width = pos_ii[0].shape\n",
    "    print(num_pos, num_neg, num_imgs, img_height, img_width)\n",
    "    \n",
    "    # set maximum feature heights and widths\n",
    "    max_height = img_height if max_height == -1 else max_height\n",
    "    max_width = img_width if max_width == -1 else max_width\n",
    "#     print(max_height, max_width)\n",
    "\n",
    "    # Create initial weights and labels\n",
    "    pos_weights = np.ones(num_pos) * 1. / (2 * num_pos)\n",
    "    neg_weights = np.ones(num_neg) * 1. / (2 * num_neg)\n",
    "    weights = np.hstack((pos_weights, neg_weights))\n",
    "    labels = np.hstack((np.ones(num_pos), np.ones(num_neg) * -1))\n",
    "#     print(pos_weights, neg_weights, weights,labels)\n",
    "\n",
    "    images = np.vstack((pos_ii, neg_ii))\n",
    "    print(np.shape(images))\n",
    "\n",
    "    features = create_features(img_height, img_width, min_width, max_width, min_height, max_height)\n",
    "    num_features = len(features)\n",
    "    feature_indexes = list(range(num_features))\n",
    "    \n",
    "    num_classifiers = num_features if num_classifiers == -1 else num_classifiers\n",
    "    \n",
    "    print('Calculating scores for images..')\n",
    "\n",
    "    votes = np.zeros((num_imgs, num_features))\n",
    "#     print(votes.shape)\n",
    "    \n",
    "    pool = Pool(processes=None)\n",
    "    for i in range(num_imgs):\n",
    "        votes[i] = np.array(list(pool.map(partial(get_feature_vote, image=images[i]), features)))\n",
    "#         for j in range(num_features):\n",
    "#             votes[i] = np.array(get_feature_vote(features[j], images[i]))\n",
    "    \n",
    "    classifiers = []\n",
    "\n",
    "    print('Selecting classifiers..')\n",
    "    \n",
    "    for t in range(num_classifiers):\n",
    "\n",
    "        classification_errors = np.zeros(len(feature_indexes))\n",
    "\n",
    "        # normalize weights\n",
    "        weights *= 1. / np.sum(weights)\n",
    "\n",
    "        # select best classifier based on the weighted error\n",
    "        for f in range(len(feature_indexes)):\n",
    "            f_idx = feature_indexes[f]\n",
    "            # classifier error is the sum of image weights where the classifier\n",
    "            # is right\n",
    "            error = sum(map(lambda img_idx: weights[img_idx] if labels[img_idx] != votes[img_idx, f_idx] else 0, range(num_imgs)))\n",
    "            classification_errors[f] = error\n",
    "            \n",
    "        min_error_idx = np.argmin(classification_errors)\n",
    "        best_error = classification_errors[min_error_idx]\n",
    "        best_feature_idx = feature_indexes[min_error_idx]\n",
    "\n",
    "        # set feature weight\n",
    "        best_feature = features[best_feature_idx]\n",
    "        feature_weight = 0.5 * np.log((1 - best_error) / best_error)\n",
    "        best_feature.weight = feature_weight\n",
    "\n",
    "        classifiers.append(best_feature)\n",
    "\n",
    "        # update image weights\n",
    "        weights = np.array(list(map(lambda img_idx: weights[img_idx] * np.sqrt((1-best_error)/best_error) if labels[img_idx] != votes[img_idx, best_feature_idx] else weights[img_idx] * np.sqrt(best_error/(1-best_error)), range(num_imgs))))\n",
    "\n",
    "        # remove feature (a feature can't be selected twice)\n",
    "        feature_indexes.remove(best_feature_idx)\n",
    "\n",
    "    return classifiers"
   ]
  },
  {
   "cell_type": "code",
   "execution_count": 18,
   "metadata": {},
   "outputs": [
    {
     "name": "stdout",
     "output_type": "stream",
     "text": [
      "500 500 1000 50 50\n",
      "(1000, 50, 50)\n",
      "Creating haar-like features..\n",
      "[(1, 2), (2, 1), (1, 3), (3, 1), (2, 2)]\n",
      "..done. 265572 features created.\n",
      "\n",
      "Calculating scores for images..\n",
      "Selecting classifiers..\n"
     ]
    }
   ],
   "source": [
    "classifiers = learn(faces_int_img_training, non_faces_int_img_training, num_classifiers, min_height, max_height, min_width,\n",
    "      max_width)"
   ]
  },
  {
   "cell_type": "code",
   "execution_count": 19,
   "metadata": {
    "scrolled": false
   },
   "outputs": [],
   "source": [
    "# print(votes[0][0:100])"
   ]
  },
  {
   "cell_type": "code",
   "execution_count": 20,
   "metadata": {},
   "outputs": [],
   "source": [
    "def ensemble_vote(int_img, classifiers):\n",
    "    \"\"\"\n",
    "    Classifies given integral image (numpy array) using given classifiers, \n",
    "    \"\"\"\n",
    "    return 1 if sum([c.get_vote(int_img) for c in classifiers]) >= 0 else 0\n",
    "\n",
    "\n",
    "def ensemble_vote_all(int_imgs, classifiers):\n",
    "    \"\"\"\n",
    "    Classifies given list of integral images (numpy arrays) using classifiers,\n",
    "    \n",
    "    \"\"\"\n",
    "    vote_partial = partial(ensemble_vote, classifiers=classifiers)\n",
    "    return list(map(vote_partial, int_imgs))"
   ]
  },
  {
   "cell_type": "code",
   "execution_count": 21,
   "metadata": {},
   "outputs": [
    {
     "name": "stdout",
     "output_type": "stream",
     "text": [
      "(100, 50, 50)\n"
     ]
    }
   ],
   "source": [
    "#integral tests, face non face\n",
    "print(np.shape(faces_int_img_test))Data available at : "
   ]
  },
  {
   "cell_type": "code",
   "execution_count": 22,
   "metadata": {},
   "outputs": [
    {
     "name": "stdout",
     "output_type": "stream",
     "text": [
      "Testing selected classifiers..\n",
      "82 70 20\n",
      "..done.\n",
      "\n",
      "Result:\n",
      "      Faces: 82/100  (82.0%)\n",
      "  non-Faces: 70/100  (70.0%)\n"
     ]
    }
   ],
   "source": [
    "print('Testing selected classifiers..')\n",
    "correct_faces = 0\n",
    "correct_non_faces = 0\n",
    "correct_faces = sum(ensemble_vote_all(faces_int_img_test, classifiers))\n",
    "correct_non_faces = len(non_faces_int_img_test) - sum(ensemble_vote_all(non_faces_int_img_test, classifiers))\n",
    "print(correct_faces, correct_non_faces, len(classifiers))\n",
    "print('..done.\\n\\nResult:\\n      Faces: ' + str(correct_faces) + '/' + str(len(faces_int_img_test))\n",
    "      + '  (' + str((floati.e. if the sum of all classifier votes is greater 0, an image is classified\n",
    "    positively (1) else negatively (0). The threshold is 0, because votes can be\n",
    "    +1 or -1.\n",
    "    :param int_imgs: List of integral images to be classified\n",
    "    :type int_imgs: list[numpy.ndarray]\n",
    "    :param classifiers: List of classifiers\n",
    "    :type classifiers: list[violajones.HaarLikeFeature.HaarLikeFeature]\n",
    "    :return: List of assigned labels, 1 if image was classified positively, else\n",
    "    0\n",
    "    :rtype: list[int](correct_faces) / len(faces_int_img_test)) * 100) + '%)\\n  non-Faces: '\n",
    "      + str(correct_non_faces) + '/' + str(len(non_faces_int_img_test)) + '  ('\n",
    "      + str((float(correct_non_faces) / len(non_faces_int_img_test)) * 100) + '%)')"
   ]
  },
  {
   "cell_type": "code",
   "execution_count": null,
   "metadata": {},
   "outputs": [],
   "source": []
  }
 ],
 "metadata": {
  "kernelspec": {
   "display_name": "Python 3",
   "language": "python",
   "name": "python3"
  },
  "language_info": {
   "codemirror_mode": {
    "name": "ipython",
    "version": 3
   },
   "file_extension": ".py",
   "mimetype": "text/x-python",
   "name": "python",
   "nbconvert_exporter": "python",
   "pygments_lexer": "ipython3",
   "version": "3.7.6"
  }
 },
 "nbformat": 4,
 "nbformat_minor": 4
}
